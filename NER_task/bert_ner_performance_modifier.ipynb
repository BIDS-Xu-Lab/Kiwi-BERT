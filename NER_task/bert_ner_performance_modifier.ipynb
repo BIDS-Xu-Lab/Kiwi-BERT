{
 "cells": [
  {
   "cell_type": "code",
   "execution_count": 2,
   "id": "e5d89463",
   "metadata": {},
   "outputs": [],
   "source": [
    "from datasets import load_dataset,Dataset\n",
    "from glob import glob\n",
    "import os,torch,random\n",
    "from shutil import copyfile\n",
    "cache_dir = '/Users/yr255/Downloads/kiwi_development/data/'\n",
    "model_name = \"emilyalsentzer/Bio_ClinicalBERT\"\n",
    "\n",
    "os.environ['CUDA_VISIBLE_DEVICES'] = '0'"
   ]
  },
  {
   "cell_type": "code",
   "execution_count": 3,
   "id": "27f77b48",
   "metadata": {},
   "outputs": [],
   "source": [
    "template_dataset = load_dataset(\"wnut_17\",cache_dir=cache_dir)\n",
    "label_list = ['O']\n",
    "relation_list = ['condition', 'reference_range', 'labvalue', 'strength', 'severity', 'dosage', 'subject', 'bodyloc', 'frequency', 'negation', 'temporal', 'duration', 'form', 'course', 'route', 'uncertain']\n",
    "for relation in relation_list:\n",
    "    label_list.append('B-'+relation)\n",
    "    label_list.append('I-'+relation)"
   ]
  },
  {
   "cell_type": "code",
   "execution_count": 4,
   "id": "3b9fa831",
   "metadata": {},
   "outputs": [],
   "source": [
    "def data_loader(files):\n",
    "    data_dict = {'id':[],'tokens':[],'ner_tags':[]}\n",
    "    i=0\n",
    "    for file in files:\n",
    "        with open(file,'r') as f:\n",
    "            lines = f.read().splitlines()\n",
    "            tokens = []\n",
    "            tags = []\n",
    "            for line in lines:\n",
    "                if line != '':\n",
    "                    token,tag = line.split('\\t')\n",
    "                    tokens.append(token)\n",
    "                    tags.append(label_list.index(tag.replace('B-temporal_expression','O').replace('I-temporal_expression','O').replace('B-social_circumstance','O').replace('I-social_circumstance','O')))\n",
    "                else:\n",
    "                    data_dict['id'].append(str(i))\n",
    "                    data_dict['tokens'].append(tokens)\n",
    "                    data_dict['ner_tags'].append(tags)\n",
    "                    tokens = []\n",
    "                    tags = []\n",
    "                    i+=1\n",
    "    return data_dict"
   ]
  },
  {
   "cell_type": "code",
   "execution_count": 5,
   "id": "87b42233",
   "metadata": {},
   "outputs": [],
   "source": [
    "def tokenize_and_align_labels(examples):\n",
    "    tokenized_inputs = tokenizer(examples[\"tokens\"], truncation=True, is_split_into_words=True)\n",
    "\n",
    "    labels = []\n",
    "    for i, label in enumerate(examples[f\"ner_tags\"]):\n",
    "        word_ids = tokenized_inputs.word_ids(batch_index=i)  # Map tokens to their respective word.\n",
    "        previous_word_idx = None\n",
    "        label_ids = []\n",
    "        for word_idx in word_ids:  # Set the special tokens to -100.\n",
    "            if word_idx is None:\n",
    "                label_ids.append(-100)\n",
    "            elif word_idx != previous_word_idx:  # Only label the first token of a given word.\n",
    "                label_ids.append(label[word_idx])\n",
    "            else:\n",
    "                label_ids.append(-100)\n",
    "            previous_word_idx = word_idx\n",
    "        labels.append(label_ids)\n",
    "\n",
    "    tokenized_inputs[\"labels\"] = labels\n",
    "    return tokenized_inputs"
   ]
  },
  {
   "cell_type": "code",
   "execution_count": 6,
   "id": "a7bbde34",
   "metadata": {},
   "outputs": [],
   "source": [
    "import numpy as np\n",
    "import evaluate\n",
    "\n",
    "seqeval = evaluate.load(\"seqeval\")\n",
    "\n",
    "def compute_metrics(p):\n",
    "    predictions, labels = p\n",
    "    predictions = np.argmax(predictions, axis=2)\n",
    "    true_predictions = [\n",
    "        [label_list[p] for (p, l) in zip(prediction, label) if l != -100]\n",
    "        for prediction, label in zip(predictions, labels)\n",
    "    ]\n",
    "    true_labels = [\n",
    "        [label_list[l] for (p, l) in zip(prediction, label) if l != -100]\n",
    "        for prediction, label in zip(predictions, labels)\n",
    "    ]\n",
    "    \n",
    "    results = seqeval.compute(predictions=true_predictions, references=true_labels)\n",
    "    return {\n",
    "        \"precision\": results[\"overall_precision\"],\n",
    "        \"recall\": results[\"overall_recall\"],\n",
    "        \"f1\": results[\"overall_f1\"],\n",
    "        \"accuracy\": results[\"overall_accuracy\"],\n",
    "    }"
   ]
  },
  {
   "cell_type": "code",
   "execution_count": 7,
   "id": "aa716e4f",
   "metadata": {},
   "outputs": [],
   "source": [
    "id2label = {}\n",
    "for i,label in enumerate(label_list):\n",
    "    id2label.update({i:label})\n",
    "label2id = {}\n",
    "for i,label in enumerate(label_list):\n",
    "    label2id.update({label:i})"
   ]
  },
  {
   "cell_type": "code",
   "execution_count": 8,
   "id": "12329e91",
   "metadata": {},
   "outputs": [
    {
     "data": {
      "application/vnd.jupyter.widget-view+json": {
       "model_id": "b37f2b588d02418ca1f261798bf0cf58",
       "version_major": 2,
       "version_minor": 0
      },
      "text/plain": [
       "Map:   0%|          | 0/14501 [00:00<?, ? examples/s]"
      ]
     },
     "metadata": {},
     "output_type": "display_data"
    },
    {
     "name": "stderr",
     "output_type": "stream",
     "text": [
      "Asking to truncate to max_length but no maximum length is provided and the model has no predefined maximum length. Default to no truncation.\n"
     ]
    },
    {
     "data": {
      "application/vnd.jupyter.widget-view+json": {
       "model_id": "85772d36d2414031a87958d6cb7a71fc",
       "version_major": 2,
       "version_minor": 0
      },
      "text/plain": [
       "Map:   0%|          | 0/14501 [00:00<?, ? examples/s]"
      ]
     },
     "metadata": {},
     "output_type": "display_data"
    },
    {
     "name": "stderr",
     "output_type": "stream",
     "text": [
      "/opt/anaconda3/envs/m3/lib/python3.10/site-packages/torch/_utils.py:831: UserWarning: TypedStorage is deprecated. It will be removed in the future and UntypedStorage will be the only storage class. This should only matter to you if you are using storages directly.  To access UntypedStorage directly, use tensor.untyped_storage() instead of tensor.storage()\n",
      "  return self.fget.__get__(instance, owner)()\n",
      "Some weights of BertForTokenClassification were not initialized from the model checkpoint at emilyalsentzer/Bio_ClinicalBERT and are newly initialized: ['classifier.bias', 'classifier.weight']\n",
      "You should probably TRAIN this model on a down-stream task to be able to use it for predictions and inference.\n",
      "/opt/anaconda3/envs/m3/lib/python3.10/site-packages/transformers/training_args.py:1559: FutureWarning: `evaluation_strategy` is deprecated and will be removed in version 4.46 of 🤗 Transformers. Use `eval_strategy` instead\n",
      "  warnings.warn(\n",
      "/var/folders/gw/rzv539755mx1ncdf30k8lvbszl3zcm/T/ipykernel_35773/282248499.py:37: FutureWarning: `tokenizer` is deprecated and will be removed in version 5.0.0 for `Trainer.__init__`. Use `processing_class` instead.\n",
      "  trainer = Trainer(\n",
      "huggingface/tokenizers: The current process just got forked, after parallelism has already been used. Disabling parallelism to avoid deadlocks...\n",
      "To disable this warning, you can either:\n",
      "\t- Avoid using `tokenizers` before the fork if possible\n",
      "\t- Explicitly set the environment variable TOKENIZERS_PARALLELISM=(true | false)\n",
      "huggingface/tokenizers: The current process just got forked, after parallelism has already been used. Disabling parallelism to avoid deadlocks...\n",
      "To disable this warning, you can either:\n",
      "\t- Avoid using `tokenizers` before the fork if possible\n",
      "\t- Explicitly set the environment variable TOKENIZERS_PARALLELISM=(true | false)\n"
     ]
    }
   ],
   "source": [
    "train_files = glob('/Users/yr255/Downloads/kiwi_development/data/NER_modifier_BERT_train.bio')\n",
    "valid_files = glob('/Users/yr255/Downloads/kiwi_development/data/NER_modifier_BERT_dev.bio')\n",
    "train = Dataset.from_dict(data_loader(train_files))\n",
    "valid = Dataset.from_dict(data_loader(valid_files))\n",
    "\n",
    "template_dataset['train'] = train\n",
    "template_dataset['validation'] = valid\n",
    "\n",
    "from transformers import AutoTokenizer\n",
    "tokenizer = AutoTokenizer.from_pretrained(model_name,cache_dir=cache_dir)\n",
    "tokenized_dataset = template_dataset.map(tokenize_and_align_labels, batched=True)\n",
    "from transformers import DataCollatorForTokenClassification\n",
    "data_collator = DataCollatorForTokenClassification(tokenizer=tokenizer)\n",
    "from transformers import AutoModelForTokenClassification, TrainingArguments, Trainer, EarlyStoppingCallback\n",
    "\n",
    "model = AutoModelForTokenClassification.from_pretrained(\n",
    "    model_name, num_labels=len(label_list), id2label=id2label, label2id=label2id,cache_dir=cache_dir\n",
    ")\n",
    "from transformers import AutoModelForTokenClassification, TrainingArguments, Trainer\n",
    "\n",
    "training_args = TrainingArguments(\n",
    "    output_dir=f\"./models/modifier_NER/\",\n",
    "    learning_rate=5e-5,\n",
    "    per_device_train_batch_size=4,\n",
    "    per_device_eval_batch_size=64,\n",
    "    num_train_epochs=20,\n",
    "    weight_decay=0.01,\n",
    "    evaluation_strategy=\"epoch\",\n",
    "    save_strategy=\"epoch\",\n",
    "    load_best_model_at_end=True,\n",
    "    do_train = True,\n",
    "    do_eval = True,\n",
    "    do_predict = True,\n",
    "    metric_for_best_model = 'f1'\n",
    ")\n",
    "\n",
    "trainer = Trainer(\n",
    "    model=model,\n",
    "    args=training_args,\n",
    "    train_dataset=tokenized_dataset[\"train\"],\n",
    "    eval_dataset=tokenized_dataset[\"validation\"],\n",
    "    tokenizer=tokenizer,\n",
    "    data_collator=data_collator,\n",
    "    compute_metrics=compute_metrics,\n",
    "    callbacks = [EarlyStoppingCallback(early_stopping_patience=3)]\n",
    ")\n",
    "\n",
    "#trainer.train()\n",
    "#trainer.save_model()"
   ]
  },
  {
   "cell_type": "code",
   "execution_count": null,
   "id": "ae433d78",
   "metadata": {},
   "outputs": [],
   "source": []
  },
  {
   "cell_type": "markdown",
   "id": "700fadcd",
   "metadata": {},
   "source": [
    "### individual test sets"
   ]
  },
  {
   "cell_type": "code",
   "execution_count": 9,
   "id": "127bd9e2",
   "metadata": {},
   "outputs": [
    {
     "data": {
      "application/vnd.jupyter.widget-view+json": {
       "model_id": "3dee3eb71f824c07a93d483aa9c709af",
       "version_major": 2,
       "version_minor": 0
      },
      "text/plain": [
       "Map:   0%|          | 0/14501 [00:00<?, ? examples/s]"
      ]
     },
     "metadata": {},
     "output_type": "display_data"
    },
    {
     "name": "stderr",
     "output_type": "stream",
     "text": [
      "Asking to truncate to max_length but no maximum length is provided and the model has no predefined maximum length. Default to no truncation.\n"
     ]
    },
    {
     "data": {
      "application/vnd.jupyter.widget-view+json": {
       "model_id": "70dc457db2de45faa48fb80d6e491019",
       "version_major": 2,
       "version_minor": 0
      },
      "text/plain": [
       "Map:   0%|          | 0/14501 [00:00<?, ? examples/s]"
      ]
     },
     "metadata": {},
     "output_type": "display_data"
    },
    {
     "name": "stderr",
     "output_type": "stream",
     "text": [
      "/opt/anaconda3/envs/m3/lib/python3.10/site-packages/transformers/training_args.py:1559: FutureWarning: `evaluation_strategy` is deprecated and will be removed in version 4.46 of 🤗 Transformers. Use `eval_strategy` instead\n",
      "  warnings.warn(\n",
      "/var/folders/gw/rzv539755mx1ncdf30k8lvbszl3zcm/T/ipykernel_35773/3701719387.py:29: FutureWarning: `tokenizer` is deprecated and will be removed in version 5.0.0 for `Trainer.__init__`. Use `processing_class` instead.\n",
      "  trainer = Trainer(\n"
     ]
    }
   ],
   "source": [
    "from transformers import AutoTokenizer\n",
    "tokenizer = AutoTokenizer.from_pretrained(model_name,cache_dir=cache_dir)\n",
    "tokenized_dataset = template_dataset.map(tokenize_and_align_labels, batched=True)\n",
    "from transformers import DataCollatorForTokenClassification\n",
    "data_collator = DataCollatorForTokenClassification(tokenizer=tokenizer)\n",
    "from transformers import AutoModelForTokenClassification, TrainingArguments, Trainer, EarlyStoppingCallback\n",
    "model_dir = \"/Users/yr255/Downloads/kiwi_development/BERT/models/modifier_NER/\"\n",
    "model = AutoModelForTokenClassification.from_pretrained(\n",
    "    model_dir, num_labels=len(label_list), id2label=id2label, label2id=label2id,cache_dir=cache_dir\n",
    ")\n",
    "from transformers import AutoModelForTokenClassification, TrainingArguments, Trainer\n",
    "\n",
    "training_args = TrainingArguments(\n",
    "    output_dir=model_dir,\n",
    "    learning_rate=5e-5,\n",
    "    per_device_train_batch_size=4,\n",
    "    per_device_eval_batch_size=64,\n",
    "    num_train_epochs=20,\n",
    "    weight_decay=0.01,\n",
    "    evaluation_strategy=\"epoch\",\n",
    "    save_strategy=\"epoch\",\n",
    "    load_best_model_at_end=True,\n",
    "    do_train = False,\n",
    "    do_eval = False,\n",
    "    do_predict = True,\n",
    "    metric_for_best_model = 'f1'\n",
    ")\n",
    "\n",
    "trainer = Trainer(\n",
    "    model=model,\n",
    "    args=training_args,\n",
    "    train_dataset=tokenized_dataset[\"train\"],\n",
    "    eval_dataset=tokenized_dataset[\"validation\"],\n",
    "    tokenizer=tokenizer,\n",
    "    data_collator=data_collator,\n",
    "    compute_metrics=compute_metrics,\n",
    "    callbacks = [EarlyStoppingCallback(early_stopping_patience=3)]\n",
    ")"
   ]
  },
  {
   "cell_type": "code",
   "execution_count": 10,
   "id": "1186d7ff",
   "metadata": {},
   "outputs": [
    {
     "data": {
      "application/vnd.jupyter.widget-view+json": {
       "model_id": "0a81df6fc9a0459ea24141cdbd3743b4",
       "version_major": 2,
       "version_minor": 0
      },
      "text/plain": [
       "Map:   0%|          | 0/14501 [00:00<?, ? examples/s]"
      ]
     },
     "metadata": {},
     "output_type": "display_data"
    },
    {
     "data": {
      "application/vnd.jupyter.widget-view+json": {
       "model_id": "6867a2e220914c658cb720ce01f386ad",
       "version_major": 2,
       "version_minor": 0
      },
      "text/plain": [
       "Map:   0%|          | 0/14501 [00:00<?, ? examples/s]"
      ]
     },
     "metadata": {},
     "output_type": "display_data"
    },
    {
     "data": {
      "application/vnd.jupyter.widget-view+json": {
       "model_id": "024d14eeff0a4a90b107990b0ff7f824",
       "version_major": 2,
       "version_minor": 0
      },
      "text/plain": [
       "Map:   0%|          | 0/5039 [00:00<?, ? examples/s]"
      ]
     },
     "metadata": {},
     "output_type": "display_data"
    },
    {
     "data": {
      "text/html": [],
      "text/plain": [
       "<IPython.core.display.HTML object>"
      ]
     },
     "metadata": {},
     "output_type": "display_data"
    },
    {
     "name": "stderr",
     "output_type": "stream",
     "text": [
      "/opt/anaconda3/envs/m3/lib/python3.10/site-packages/seqeval/metrics/v1.py:57: UndefinedMetricWarning: Recall and F-score are ill-defined and being set to 0.0 in labels with no true samples. Use `zero_division` parameter to control this behavior.\n",
      "  _warn_prf(average, modifier, msg_start, len(result))\n",
      "\u001b[34m\u001b[1mwandb\u001b[0m: \u001b[33mWARNING\u001b[0m The `run_name` is currently set to the same value as `TrainingArguments.output_dir`. If this was not intended, please specify a different run name by setting the `TrainingArguments.run_name` parameter.\n",
      "huggingface/tokenizers: The current process just got forked, after parallelism has already been used. Disabling parallelism to avoid deadlocks...\n",
      "To disable this warning, you can either:\n",
      "\t- Avoid using `tokenizers` before the fork if possible\n",
      "\t- Explicitly set the environment variable TOKENIZERS_PARALLELISM=(true | false)\n",
      "\u001b[34m\u001b[1mwandb\u001b[0m: Using wandb-core as the SDK backend.  Please refer to https://wandb.me/wandb-core for more information.\n",
      "huggingface/tokenizers: The current process just got forked, after parallelism has already been used. Disabling parallelism to avoid deadlocks...\n",
      "To disable this warning, you can either:\n",
      "\t- Avoid using `tokenizers` before the fork if possible\n",
      "\t- Explicitly set the environment variable TOKENIZERS_PARALLELISM=(true | false)\n",
      "\u001b[34m\u001b[1mwandb\u001b[0m: Currently logged in as: \u001b[33mkevin_ren_yang\u001b[0m (\u001b[33mkevin_ren_yang-university-of-south-carolina123\u001b[0m). Use \u001b[1m`wandb login --relogin`\u001b[0m to force relogin\n",
      "huggingface/tokenizers: The current process just got forked, after parallelism has already been used. Disabling parallelism to avoid deadlocks...\n",
      "To disable this warning, you can either:\n",
      "\t- Avoid using `tokenizers` before the fork if possible\n",
      "\t- Explicitly set the environment variable TOKENIZERS_PARALLELISM=(true | false)\n"
     ]
    },
    {
     "data": {
      "text/html": [
       "Tracking run with wandb version 0.18.7"
      ],
      "text/plain": [
       "<IPython.core.display.HTML object>"
      ]
     },
     "metadata": {},
     "output_type": "display_data"
    },
    {
     "data": {
      "text/html": [
       "Run data is saved locally in <code>/Users/yr255/Downloads/kiwi_development/BERT/wandb/run-20241119_123157-8hbc9vgx</code>"
      ],
      "text/plain": [
       "<IPython.core.display.HTML object>"
      ]
     },
     "metadata": {},
     "output_type": "display_data"
    },
    {
     "data": {
      "text/html": [
       "Syncing run <strong><a href='https://wandb.ai/kevin_ren_yang-university-of-south-carolina123/huggingface/runs/8hbc9vgx' target=\"_blank\">/Users/yr255/Downloads/kiwi_development/BERT/models/modifier_NER/</a></strong> to <a href='https://wandb.ai/kevin_ren_yang-university-of-south-carolina123/huggingface' target=\"_blank\">Weights & Biases</a> (<a href='https://wandb.me/developer-guide' target=\"_blank\">docs</a>)<br/>"
      ],
      "text/plain": [
       "<IPython.core.display.HTML object>"
      ]
     },
     "metadata": {},
     "output_type": "display_data"
    },
    {
     "data": {
      "text/html": [
       " View project at <a href='https://wandb.ai/kevin_ren_yang-university-of-south-carolina123/huggingface' target=\"_blank\">https://wandb.ai/kevin_ren_yang-university-of-south-carolina123/huggingface</a>"
      ],
      "text/plain": [
       "<IPython.core.display.HTML object>"
      ]
     },
     "metadata": {},
     "output_type": "display_data"
    },
    {
     "data": {
      "text/html": [
       " View run at <a href='https://wandb.ai/kevin_ren_yang-university-of-south-carolina123/huggingface/runs/8hbc9vgx' target=\"_blank\">https://wandb.ai/kevin_ren_yang-university-of-south-carolina123/huggingface/runs/8hbc9vgx</a>"
      ],
      "text/plain": [
       "<IPython.core.display.HTML object>"
      ]
     },
     "metadata": {},
     "output_type": "display_data"
    },
    {
     "name": "stdout",
     "output_type": "stream",
     "text": [
      "evaluate: ./output/BERT_modifier_output_test_prediction_i2b2_modifier.bio /Users/yr255/Downloads/kiwi_development/merged_gold_pred.eval_score.txt tab ner False \n",
      "\n",
      "\n",
      "\n",
      "\n",
      "P(exact)\tR(exact)\tF1(exact)\tP(relax)\tR(relax)\tF1(relax)\tright\tright_predict\tright_gold\tpredict\tgold\tSemantic\n",
      "0.610\t0.603\t0.607\t0.799\t0.800\t0.799\t313\t410\t415\t513\t519\tbodyloc\n",
      "0.333\t0.667\t0.444\t0.333\t0.667\t0.444\t2\t2\t2\t6\t3\tcondition\n",
      "0.615\t0.640\t0.627\t0.625\t0.650\t0.637\t64\t65\t65\t104\t100\tcourse\n",
      "0.538\t0.525\t0.532\t0.897\t0.875\t0.886\t63\t105\t105\t117\t120\tdosage\n",
      "0.333\t0.278\t0.303\t0.533\t0.444\t0.485\t10\t16\t16\t30\t36\tduration\n",
      "0.742\t0.680\t0.710\t0.858\t0.787\t0.821\t115\t133\t133\t155\t169\tform\n",
      "0.670\t0.585\t0.625\t1.046\t0.815\t0.916\t234\t365\t326\t349\t400\tfrequency\n",
      "0.791\t0.712\t0.749\t0.984\t0.835\t0.903\t686\t853\t805\t867\t964\tlabvalue\n",
      "0.778\t0.894\t0.832\t0.823\t0.944\t0.879\t193\t204\t204\t248\t216\tnegation\n",
      "0.887\t0.864\t0.875\t0.907\t0.886\t0.896\t228\t233\t234\t257\t264\troute\n",
      "0.463\t0.795\t0.585\t0.493\t0.846\t0.623\t31\t33\t33\t67\t39\tseverity\n",
      "0.910\t0.940\t0.925\t0.942\t0.970\t0.956\t282\t292\t291\t310\t300\tstrength\n",
      "0.707\t0.586\t0.641\t0.888\t0.716\t0.793\t498\t625\t609\t704\t850\ttemporal\n",
      "0.106\t0.455\t0.172\t0.128\t0.545\t0.207\t5\t6\t6\t47\t11\tuncertain\n"
     ]
    },
    {
     "name": "stderr",
     "output_type": "stream",
     "text": [
      "huggingface/tokenizers: The current process just got forked, after parallelism has already been used. Disabling parallelism to avoid deadlocks...\n",
      "To disable this warning, you can either:\n",
      "\t- Avoid using `tokenizers` before the fork if possible\n",
      "\t- Explicitly set the environment variable TOKENIZERS_PARALLELISM=(true | false)\n"
     ]
    },
    {
     "name": "stdout",
     "output_type": "stream",
     "text": [
      "0.716\t0.683\t0.699\t0.879\t0.813\t0.844\t2724\t3342\t3244\t3804\t3991\toverall\n",
      "evaluate done.\n"
     ]
    }
   ],
   "source": [
    "for dataset in ['i2b2']:\n",
    "\n",
    "    test_files = glob(f'/Users/yr255/Downloads/kiwi_development/data/NER_modifier_BERT_test_{dataset}.bio')\n",
    "    test = Dataset.from_dict(data_loader(test_files))\n",
    "    template_dataset['test'] = test\n",
    "    tokenized_dataset = template_dataset.map(tokenize_and_align_labels, batched=True)\n",
    "    predictions, labels, metrics = trainer.predict(tokenized_dataset['test'], metric_key_prefix=\"predict\")\n",
    "    predictions = np.argmax(predictions, axis=2)\n",
    "    true_predictions = [\n",
    "        [label_list[p] for (p, l) in zip(prediction, label) if l != -100]\n",
    "        for prediction, label in zip(predictions, labels)\n",
    "    ]\n",
    "    with open(f'./output/BERT_modifier_output_test_prediction_{dataset}_modifier.bio','w') as f:\n",
    "        for sentence, predictions,golds in zip(template_dataset['test']['tokens'], true_predictions, template_dataset['test']['ner_tags']):\n",
    "            for token,tag,gold in zip(sentence,predictions,golds):\n",
    "                f.write(f'{token}\\t{label_list[gold]}\\t{tag}\\n')\n",
    "            f.write('\\n')\n",
    "    !python ../evaluate_jianfu_original.py -lf ./output/BERT_modifier_output_test_prediction_{dataset}_modifier.bio"
   ]
  },
  {
   "cell_type": "code",
   "execution_count": null,
   "id": "84bb2e59",
   "metadata": {},
   "outputs": [],
   "source": []
  }
 ],
 "metadata": {
  "kernelspec": {
   "display_name": "Python 3 (ipykernel)",
   "language": "python",
   "name": "python3"
  },
  "language_info": {
   "codemirror_mode": {
    "name": "ipython",
    "version": 3
   },
   "file_extension": ".py",
   "mimetype": "text/x-python",
   "name": "python",
   "nbconvert_exporter": "python",
   "pygments_lexer": "ipython3",
   "version": "3.10.15"
  }
 },
 "nbformat": 4,
 "nbformat_minor": 5
}
